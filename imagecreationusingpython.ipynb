{
 "cells": [
  {
   "cell_type": "markdown",
   "id": "6205c128",
   "metadata": {},
   "source": [
    "# Image Creation Using Python Code"
   ]
  },
  {
   "cell_type": "code",
   "execution_count": 1,
   "id": "e381a2f8",
   "metadata": {},
   "outputs": [],
   "source": [
    "import numpy , cv2"
   ]
  },
  {
   "cell_type": "code",
   "execution_count": 2,
   "id": "325ca586",
   "metadata": {},
   "outputs": [],
   "source": [
    "photo = numpy.zeros((700,700,3))"
   ]
  },
  {
   "cell_type": "code",
   "execution_count": 3,
   "id": "e05c1255",
   "metadata": {},
   "outputs": [
    {
     "data": {
      "text/plain": [
       "array([[[0., 0., 0.],\n",
       "        [0., 0., 0.],\n",
       "        [0., 0., 0.],\n",
       "        ...,\n",
       "        [0., 0., 0.],\n",
       "        [0., 0., 0.],\n",
       "        [0., 0., 0.]],\n",
       "\n",
       "       [[0., 0., 0.],\n",
       "        [0., 0., 0.],\n",
       "        [0., 0., 0.],\n",
       "        ...,\n",
       "        [0., 0., 0.],\n",
       "        [0., 0., 0.],\n",
       "        [0., 0., 0.]],\n",
       "\n",
       "       [[0., 0., 0.],\n",
       "        [0., 0., 0.],\n",
       "        [0., 0., 0.],\n",
       "        ...,\n",
       "        [0., 0., 0.],\n",
       "        [0., 0., 0.],\n",
       "        [0., 0., 0.]],\n",
       "\n",
       "       ...,\n",
       "\n",
       "       [[0., 0., 0.],\n",
       "        [0., 0., 0.],\n",
       "        [0., 0., 0.],\n",
       "        ...,\n",
       "        [0., 0., 0.],\n",
       "        [0., 0., 0.],\n",
       "        [0., 0., 0.]],\n",
       "\n",
       "       [[0., 0., 0.],\n",
       "        [0., 0., 0.],\n",
       "        [0., 0., 0.],\n",
       "        ...,\n",
       "        [0., 0., 0.],\n",
       "        [0., 0., 0.],\n",
       "        [0., 0., 0.]],\n",
       "\n",
       "       [[0., 0., 0.],\n",
       "        [0., 0., 0.],\n",
       "        [0., 0., 0.],\n",
       "        ...,\n",
       "        [0., 0., 0.],\n",
       "        [0., 0., 0.],\n",
       "        [0., 0., 0.]]])"
      ]
     },
     "execution_count": 3,
     "metadata": {},
     "output_type": "execute_result"
    }
   ],
   "source": [
    "photo"
   ]
  },
  {
   "cell_type": "code",
   "execution_count": 4,
   "id": "994bd718",
   "metadata": {},
   "outputs": [
    {
     "name": "stdout",
     "output_type": "stream",
     "text": [
      "<class 'numpy.ndarray'>\n"
     ]
    }
   ],
   "source": [
    "print(type(photo))"
   ]
  },
  {
   "cell_type": "code",
   "execution_count": 5,
   "id": "69bfe27a",
   "metadata": {},
   "outputs": [],
   "source": [
    "cv2.imshow(\"myimg\",photo)#to open the photo\n",
    "cv2.waitKey()#to hold the program and keep the photo tab open\n",
    "cv2.destroyAllWindows()# close the program window"
   ]
  },
  {
   "cell_type": "code",
   "execution_count": 6,
   "id": "0ae5157b",
   "metadata": {},
   "outputs": [],
   "source": [
    "cv2.circle(photo , center = (350,175), radius = 75 , color = (0,255,0) , thickness = -1  ) #head\n",
    "photo[250:270,340:360] = [255,0,255] #neck\n",
    "photo[270:400,250:450] = [250,0,0]   #body\n",
    "\n",
    "photo[400:550,395:405] = [255,255,0]   #left leg\n",
    "photo[400:550,295:305] = [255,255,0]   #right leg \n",
    "\n",
    "photo[270:280,450:550] = [255,0,255]     #left hand \n",
    "photo[270:280,150:250] = [255,0,255]     #right hand"
   ]
  },
  {
   "cell_type": "code",
   "execution_count": 7,
   "id": "86a7e084",
   "metadata": {},
   "outputs": [],
   "source": [
    "#save the image \n",
    "cv2.imwrite(\"image.jpeg\", photo)\n",
    "cv2.imshow(\"img\",photo)#to open the photo\n",
    "cv2.waitKey()#to hold the program and keep the photo tab open\n",
    "cv2.destroyAllWindows()# close the program window"
   ]
  },
  {
   "cell_type": "code",
   "execution_count": null,
   "id": "178278f0",
   "metadata": {},
   "outputs": [],
   "source": []
  },
  {
   "cell_type": "code",
   "execution_count": null,
   "id": "c5dac90f",
   "metadata": {},
   "outputs": [],
   "source": []
  }
 ],
 "metadata": {
  "kernelspec": {
   "display_name": "Python 3",
   "language": "python",
   "name": "python3"
  },
  "language_info": {
   "codemirror_mode": {
    "name": "ipython",
    "version": 3
   },
   "file_extension": ".py",
   "mimetype": "text/x-python",
   "name": "python",
   "nbconvert_exporter": "python",
   "pygments_lexer": "ipython3",
   "version": "3.8.3"
  }
 },
 "nbformat": 4,
 "nbformat_minor": 5
}
