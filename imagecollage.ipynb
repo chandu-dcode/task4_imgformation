{
 "cells": [
  {
   "cell_type": "markdown",
   "id": "67459eeb",
   "metadata": {},
   "source": [
    "# Collage the Image Both Created Into a Single Image"
   ]
  },
  {
   "cell_type": "code",
   "execution_count": null,
   "id": "9a0fb093",
   "metadata": {},
   "outputs": [],
   "source": []
  },
  {
   "cell_type": "code",
   "execution_count": 1,
   "id": "f2432c9f",
   "metadata": {},
   "outputs": [],
   "source": [
    "import cv2 ,  numpy"
   ]
  },
  {
   "cell_type": "code",
   "execution_count": 2,
   "id": "090e69d3",
   "metadata": {},
   "outputs": [],
   "source": [
    "#uploaded the image \n",
    "img1 = cv2.imread(\"flowerimg.jpeg\")\n",
    "img1.shape\n",
    "cv2.imshow(\"flowerimage1\",img1)\n",
    "cv2.waitKey()\n",
    "cv2.destroyAllWindows()"
   ]
  },
  {
   "cell_type": "code",
   "execution_count": null,
   "id": "e874c3b9",
   "metadata": {},
   "outputs": [],
   "source": []
  },
  {
   "cell_type": "code",
   "execution_count": 3,
   "id": "f4d27e0d",
   "metadata": {},
   "outputs": [],
   "source": [
    "#uploaded the image \n",
    "img2 = cv2.imread(\"Convertedimg.jpeg\")\n",
    "img2.shape\n",
    "cv2.imshow(\"flowerimage2\",img2)\n",
    "cv2.waitKey()\n",
    "cv2.destroyAllWindows()"
   ]
  },
  {
   "cell_type": "code",
   "execution_count": null,
   "id": "a385b8fe",
   "metadata": {},
   "outputs": [],
   "source": []
  },
  {
   "cell_type": "code",
   "execution_count": 4,
   "id": "fdc28fea",
   "metadata": {},
   "outputs": [],
   "source": [
    "collage1 = numpy.hstack((img1 , img2))\n",
    "cv2.imshow(\"collage image 1\", collage1)\n",
    "cv2.waitKey()\n",
    "cv2.destroyAllWindows()"
   ]
  },
  {
   "cell_type": "code",
   "execution_count": null,
   "id": "974d694b",
   "metadata": {},
   "outputs": [],
   "source": []
  },
  {
   "cell_type": "code",
   "execution_count": 5,
   "id": "b6395a5d",
   "metadata": {},
   "outputs": [],
   "source": [
    "collage2 = numpy.vstack((img1 , img2))\n",
    "cv2.imshow(\"collage image 1\", collage2)\n",
    "cv2.waitKey()\n",
    "cv2.destroyAllWindows()"
   ]
  },
  {
   "cell_type": "code",
   "execution_count": null,
   "id": "8428606d",
   "metadata": {},
   "outputs": [],
   "source": []
  },
  {
   "cell_type": "code",
   "execution_count": null,
   "id": "8543fcf0",
   "metadata": {},
   "outputs": [],
   "source": []
  },
  {
   "cell_type": "code",
   "execution_count": null,
   "id": "a1c523f4",
   "metadata": {},
   "outputs": [],
   "source": []
  },
  {
   "cell_type": "code",
   "execution_count": null,
   "id": "85929c55",
   "metadata": {},
   "outputs": [],
   "source": []
  }
 ],
 "metadata": {
  "kernelspec": {
   "display_name": "Python 3",
   "language": "python",
   "name": "python3"
  },
  "language_info": {
   "codemirror_mode": {
    "name": "ipython",
    "version": 3
   },
   "file_extension": ".py",
   "mimetype": "text/x-python",
   "name": "python",
   "nbconvert_exporter": "python",
   "pygments_lexer": "ipython3",
   "version": "3.8.3"
  }
 },
 "nbformat": 4,
 "nbformat_minor": 5
}
